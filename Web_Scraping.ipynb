{
  "nbformat": 4,
  "nbformat_minor": 2,
  "metadata": {
    "colab": {
      "name": "Web Scraping.ipynb",
      "provenance": []
    },
    "kernelspec": {
      "name": "python3",
      "display_name": "Python 3.8.8 64-bit ('base': conda)"
    },
    "language_info": {
      "name": "python",
      "version": "3.7.0",
      "mimetype": "text/x-python",
      "codemirror_mode": {
        "name": "ipython",
        "version": 3
      },
      "pygments_lexer": "ipython3",
      "nbconvert_exporter": "python",
      "file_extension": ".py"
    },
    "interpreter": {
      "hash": "f30bca8c45156221cc78ea9ca58851eef958f869999106cb867e9105028fcc12"
    }
  },
  "cells": [
    {
      "cell_type": "code",
      "execution_count": 2,
      "source": [
        "from bs4 import BeautifulSoup"
      ],
      "outputs": [],
      "metadata": {
        "id": "xWo3BSSt5xKu"
      }
    },
    {
      "cell_type": "code",
      "execution_count": 13,
      "source": [
        "ITEM_HTML = '''<html><head></head><body>\n",
        "<li class=\"col-xs-6 col-sm-4 col-md-3 col-lg-3\">\n",
        "    <article class=\"product_pod\">\n",
        "            <div class=\"image_container\">\n",
        "                    <a href=\"catalogue/a-light-in-the-attic_1000/index.html\"><img src=\"media/cache/2c/da/2cdad67c44b002e7ead0cc35693c0e8b.jpg\" alt=\"A Light in the Attic\" class=\"thumbnail\"></a>\n",
        "            </div>\n",
        "                <p class=\"star-rating Three\">\n",
        "                    <i class=\"icon-star\"></i>\n",
        "                    <i class=\"icon-star\"></i>\n",
        "                    <i class=\"icon-star\"></i>\n",
        "                    <i class=\"icon-star\"></i>\n",
        "                    <i class=\"icon-star\"></i>\n",
        "                </p>\n",
        "            <h3><a href=\"catalogue/a-light-in-the-attic_1000/index.html\" title=\"A Light in the Attic\">A Light in the ...</a></h3>\n",
        "            <div class=\"product_price\">\n",
        "        <p class=\"price_color\">£51.77</p>\n",
        "<p class=\"instock availability\">\n",
        "    <i class=\"icon-ok\"></i>\n",
        "        In stock\n",
        "</p>\n",
        "    <form>\n",
        "        <button type=\"submit\" class=\"btn btn-primary btn-block\" data-loading-text=\"Adding...\">Add to basket</button>\n",
        "    </form>\n",
        "            </div>\n",
        "    </article>\n",
        "</li>\n",
        "</body></html>\n",
        "'''\n",
        "\n",
        "SIMPLE_HTML = '''<html>\n",
        "<head></head>\n",
        "<body>\n",
        "<h1>This is a title</h1>\n",
        "<p class=\"subtitle\">Lorem ipsum dolor sit amet. Consectetur edipiscim elit.</p>\n",
        "<p>Here's another p without a class</p>\n",
        "<ul>\n",
        "    <li>Rolf</li>\n",
        "    <li>Charlie</li>\n",
        "    <li>Jen</li>\n",
        "    <li>Jose</li>\n",
        "</ul>\n",
        "</body>\n",
        "</html>'''"
      ],
      "outputs": [],
      "metadata": {
        "id": "3EJz720B8uuv"
      }
    },
    {
      "cell_type": "code",
      "execution_count": 14,
      "source": [
        "soup = BeautifulSoup(SIMPLE_HTML, 'html.parser')"
      ],
      "outputs": [],
      "metadata": {
        "id": "mirttpOi9Oz-"
      }
    },
    {
      "cell_type": "code",
      "execution_count": 15,
      "source": [
        "print(soup.prettify())"
      ],
      "outputs": [
        {
          "output_type": "stream",
          "name": "stdout",
          "text": [
            "<html>\n",
            " <head>\n",
            " </head>\n",
            " <body>\n",
            "  <h1>\n",
            "   This is a title\n",
            "  </h1>\n",
            "  <p class=\"subtitle\">\n",
            "   Lorem ipsum dolor sit amet. Consectetur edipiscim elit.\n",
            "  </p>\n",
            "  <p>\n",
            "   Here's another p without a class\n",
            "  </p>\n",
            "  <ul>\n",
            "   <li>\n",
            "    Rolf\n",
            "   </li>\n",
            "   <li>\n",
            "    Charlie\n",
            "   </li>\n",
            "   <li>\n",
            "    Jen\n",
            "   </li>\n",
            "   <li>\n",
            "    Jose\n",
            "   </li>\n",
            "  </ul>\n",
            " </body>\n",
            "</html>\n"
          ]
        }
      ],
      "metadata": {
        "colab": {
          "base_uri": "https://localhost:8080/"
        },
        "id": "fB8auTLP9mnD",
        "outputId": "b2fefe46-30e0-45e1-ac45-0deb3873d5b8"
      }
    },
    {
      "cell_type": "code",
      "execution_count": 16,
      "source": [
        "h1 = soup.find_all('h1')\n",
        "print(h1)"
      ],
      "outputs": [
        {
          "output_type": "stream",
          "name": "stdout",
          "text": [
            "[<h1>This is a title</h1>]\n"
          ]
        }
      ],
      "metadata": {
        "colab": {
          "base_uri": "https://localhost:8080/"
        },
        "id": "sFD9i38Q9o00",
        "outputId": "fefaf54c-29c7-4920-9b6d-260d28795de7"
      }
    },
    {
      "cell_type": "code",
      "execution_count": 17,
      "source": [
        "h1_one = soup.find('h1')\n",
        "h1_one.string"
      ],
      "outputs": [
        {
          "output_type": "execute_result",
          "data": {
            "text/plain": [
              "'This is a title'"
            ]
          },
          "metadata": {},
          "execution_count": 17
        }
      ],
      "metadata": {
        "colab": {
          "base_uri": "https://localhost:8080/",
          "height": 35
        },
        "id": "Fnu9oqwA-E9N",
        "outputId": "c9094557-01c9-4a49-f225-88cfec17496e"
      }
    },
    {
      "cell_type": "code",
      "execution_count": 18,
      "source": [
        "def getlist():\n",
        "  li_list = soup.find_all('li')\n",
        "  li_string = [string.string for string in li_list]\n",
        "  print(li_string)\n",
        "\n",
        "getlist()"
      ],
      "outputs": [
        {
          "output_type": "stream",
          "name": "stdout",
          "text": [
            "['Rolf', 'Charlie', 'Jen', 'Jose']\n"
          ]
        }
      ],
      "metadata": {
        "colab": {
          "base_uri": "https://localhost:8080/"
        },
        "id": "lNOrQys9-myy",
        "outputId": "a04d7e40-3ea6-4999-fa17-cb509e8dc877"
      }
    },
    {
      "cell_type": "code",
      "execution_count": 19,
      "source": [
        "def subtitle():\n",
        "  para = soup.find('p',{'class':'subtitle'})\n",
        "  print(para.string)\n",
        "subtitle()"
      ],
      "outputs": [
        {
          "output_type": "stream",
          "name": "stdout",
          "text": [
            "Lorem ipsum dolor sit amet. Consectetur edipiscim elit.\n"
          ]
        }
      ],
      "metadata": {
        "colab": {
          "base_uri": "https://localhost:8080/"
        },
        "id": "cgfgRZHQC6p3",
        "outputId": "9fc445ad-9d41-4e13-ddda-d9b202dc635a"
      }
    },
    {
      "cell_type": "code",
      "execution_count": 60,
      "source": [
        "def get_paras():\n",
        "  para = soup.find('p')\n",
        "  print(para.string)\n",
        "\n",
        "get_paras()"
      ],
      "outputs": [
        {
          "output_type": "stream",
          "name": "stdout",
          "text": [
            "Lorem ipsum dolor sit amet. Consectetur edipiscim elit.\n"
          ]
        }
      ],
      "metadata": {
        "colab": {
          "base_uri": "https://localhost:8080/"
        },
        "id": "hxlMn4CWDzDm",
        "outputId": "a355d410-207f-4539-f3c2-3f445833b7fd"
      }
    },
    {
      "cell_type": "code",
      "execution_count": 63,
      "source": [
        "def get_all_para():\n",
        "  para = soup.findAll('p')\n",
        "  para = [p.string for p in para]\n",
        "  print(para)\n",
        "get_other_para()"
      ],
      "outputs": [
        {
          "output_type": "stream",
          "name": "stdout",
          "text": [
            "['Lorem ipsum dolor sit amet. Consectetur edipiscim elit.', \"Here's another p without a class\"]\n"
          ]
        }
      ],
      "metadata": {
        "colab": {
          "base_uri": "https://localhost:8080/"
        },
        "id": "6qCdN2R7GDCS",
        "outputId": "8598a759-3f7c-43dc-c2d9-cb5dd6f62093"
      }
    },
    {
      "cell_type": "code",
      "execution_count": 65,
      "source": [
        "def get_specific():\n",
        "  para = soup.findAll('p',{'class':''})\n",
        "  para = [i.string for i in para]\n",
        "  return para\n",
        "get_specific()"
      ],
      "outputs": [
        {
          "output_type": "execute_result",
          "data": {
            "text/plain": [
              "[\"Here's another p without a class\"]"
            ]
          },
          "metadata": {},
          "execution_count": 65
        }
      ],
      "metadata": {
        "colab": {
          "base_uri": "https://localhost:8080/"
        },
        "id": "dIsHkBBkGiI1",
        "outputId": "c96b3a16-4bb8-436a-bbab-faa84840611a"
      }
    },
    {
      "cell_type": "code",
      "execution_count": 76,
      "source": [
        "def get_specific_class():\n",
        "  para = soup.find_all('p')\n",
        "  para = [i.string for i in para if 'subtitle' not in i.attrs.get('class',[])]\n",
        "  print(para)\n",
        "\n",
        "get_specific_class()\n"
      ],
      "outputs": [
        {
          "output_type": "stream",
          "name": "stdout",
          "text": [
            "[\"Here's another p without a class\"]\n"
          ]
        }
      ],
      "metadata": {
        "colab": {
          "base_uri": "https://localhost:8080/"
        },
        "id": "lN99i_26HrNG",
        "outputId": "86b78d33-20a0-4055-9be6-63ff447505ac"
      }
    },
    {
      "cell_type": "markdown",
      "source": [
        "# Fold 2"
      ],
      "metadata": {}
    },
    {
      "cell_type": "code",
      "execution_count": 4,
      "source": [
        "import re\n",
        "\n",
        "from bs4 import BeautifulSoup\n",
        "\n",
        "\n",
        "ITEM_HTML = '''<html><head></head><body>\n",
        "<li class=\"col-xs-6 col-sm-4 col-md-3 col-lg-3\">\n",
        "    <article class=\"product_pod\">\n",
        "            <div class=\"image_container\">\n",
        "                    <a href=\"catalogue/a-light-in-the-attic_1000/index.html\"><img src=\"media/cache/2c/da/2cdad67c44b002e7ead0cc35693c0e8b.jpg\" alt=\"A Light in the Attic\" class=\"thumbnail\"></a>\n",
        "            </div>\n",
        "                <p class=\"star-rating Three\">\n",
        "                    <i class=\"icon-star\"></i>\n",
        "                    <i class=\"icon-star\"></i>\n",
        "                    <i class=\"icon-star\"></i>\n",
        "                    <i class=\"icon-star\"></i>\n",
        "                    <i class=\"icon-star\"></i>\n",
        "                </p>\n",
        "            <h3><a href=\"catalogue/a-light-in-the-attic_1000/index.html\" title=\"A Light in the Attic\">A Light in the ...</a></h3>\n",
        "            <div class=\"product_price\">\n",
        "        <p class=\"price_color\">£51.77</p>\n",
        "<p class=\"instock availability\">\n",
        "    <i class=\"icon-ok\"></i>\n",
        "        In stock\n",
        "</p>\n",
        "    <form>\n",
        "        <button type=\"submit\" class=\"btn btn-primary btn-block\" data-loading-text=\"Adding...\">Add to basket</button>\n",
        "    </form>\n",
        "            </div>\n",
        "    </article>\n",
        "</li>\n",
        "</body></html>\n",
        "'''"
      ],
      "outputs": [],
      "metadata": {
        "id": "TNKM8I3JIIrW"
      }
    },
    {
      "cell_type": "code",
      "execution_count": 8,
      "source": [
        "soup = BeautifulSoup(ITEM_HTML,'html.parser')"
      ],
      "outputs": [],
      "metadata": {}
    },
    {
      "cell_type": "code",
      "execution_count": 9,
      "source": [
        "def find_title():\n",
        "    locator = 'article h3 a' #CSS Locator\n",
        "    item_link = soup.select_one(locator)\n",
        "    item_name = item_link.attrs['title']\n",
        "    print(item_name)\n",
        "\n",
        "def find_href():\n",
        "    locator = 'article.product_pod h3 a' # 'DOT'product_pod CSS Locator\n",
        "    item_link = soup.select_one(locator)\n",
        "    item_name = item_link.attrs['href']\n",
        "    print(item_name)\n",
        "\n",
        "find_href()\n",
        "find_title()"
      ],
      "outputs": [
        {
          "output_type": "stream",
          "name": "stdout",
          "text": [
            "catalogue/a-light-in-the-attic_1000/index.html\n",
            "A Light in the Attic\n"
          ]
        }
      ],
      "metadata": {}
    },
    {
      "cell_type": "code",
      "execution_count": 3,
      "source": [
        "def price():\n",
        "    locator = 'article.product_pod p.price_color'\n",
        "\n",
        "    item_price = soup.select_one(locator).string\n",
        "\n",
        "    pattern = '£([0-9]+\\.[0-9]+)'\n",
        "    matcher = re.search(pattern, item_price)\n",
        "    return float(matcher.group(1))\n",
        "\n",
        "price()"
      ],
      "outputs": [
        {
          "output_type": "error",
          "ename": "NameError",
          "evalue": "name 'soup' is not defined",
          "traceback": [
            "\u001b[0;31m---------------------------------------------------------------------------\u001b[0m",
            "\u001b[0;31mNameError\u001b[0m                                 Traceback (most recent call last)",
            "\u001b[0;32m<ipython-input-3-ef790f29d460>\u001b[0m in \u001b[0;36m<module>\u001b[0;34m()\u001b[0m\n\u001b[1;32m      8\u001b[0m     \u001b[0;32mreturn\u001b[0m \u001b[0mfloat\u001b[0m\u001b[0;34m(\u001b[0m\u001b[0mmatcher\u001b[0m\u001b[0;34m.\u001b[0m\u001b[0mgroup\u001b[0m\u001b[0;34m(\u001b[0m\u001b[0;36m1\u001b[0m\u001b[0;34m)\u001b[0m\u001b[0;34m)\u001b[0m\u001b[0;34m\u001b[0m\u001b[0m\n\u001b[1;32m      9\u001b[0m \u001b[0;34m\u001b[0m\u001b[0m\n\u001b[0;32m---> 10\u001b[0;31m \u001b[0mprice\u001b[0m\u001b[0;34m(\u001b[0m\u001b[0;34m)\u001b[0m\u001b[0;34m\u001b[0m\u001b[0m\n\u001b[0m",
            "\u001b[0;32m<ipython-input-3-ef790f29d460>\u001b[0m in \u001b[0;36mprice\u001b[0;34m()\u001b[0m\n\u001b[1;32m      2\u001b[0m     \u001b[0mlocator\u001b[0m \u001b[0;34m=\u001b[0m \u001b[0;34m'article.product_pod p.price_color'\u001b[0m\u001b[0;34m\u001b[0m\u001b[0m\n\u001b[1;32m      3\u001b[0m \u001b[0;34m\u001b[0m\u001b[0m\n\u001b[0;32m----> 4\u001b[0;31m     \u001b[0mitem_price\u001b[0m \u001b[0;34m=\u001b[0m \u001b[0msoup\u001b[0m\u001b[0;34m.\u001b[0m\u001b[0mselect_one\u001b[0m\u001b[0;34m(\u001b[0m\u001b[0mlocator\u001b[0m\u001b[0;34m)\u001b[0m\u001b[0;34m.\u001b[0m\u001b[0mstring\u001b[0m\u001b[0;34m\u001b[0m\u001b[0m\n\u001b[0m\u001b[1;32m      5\u001b[0m \u001b[0;34m\u001b[0m\u001b[0m\n\u001b[1;32m      6\u001b[0m     \u001b[0mpattern\u001b[0m \u001b[0;34m=\u001b[0m \u001b[0;34m'£([0-9]+\\.[0-9]+)'\u001b[0m\u001b[0;34m\u001b[0m\u001b[0m\n",
            "\u001b[0;31mNameError\u001b[0m: name 'soup' is not defined"
          ]
        }
      ],
      "metadata": {}
    },
    {
      "cell_type": "code",
      "execution_count": 7,
      "source": [
        "def ratings():\n",
        "    # locator = 'article.product_pod p.star-rating.Three'\n",
        "    locator = 'article.product_pod p.star-rating.Three'\n",
        "    star_rating_tag = soup.select_one(locator)\n",
        "    star_rating = star_rating_tag.attrs['class']\n",
        "    star_ratings = [r for r in star_rating if r != 'star-rating'] \n",
        "    return print(star_ratings)\n",
        "\n",
        "ratings()"
      ],
      "outputs": [
        {
          "output_type": "error",
          "ename": "NameError",
          "evalue": "name 'soup' is not defined",
          "traceback": [
            "\u001b[0;31m---------------------------------------------------------------------------\u001b[0m",
            "\u001b[0;31mNameError\u001b[0m                                 Traceback (most recent call last)",
            "\u001b[0;32m<ipython-input-7-1b1344443099>\u001b[0m in \u001b[0;36m<module>\u001b[0;34m()\u001b[0m\n\u001b[1;32m      7\u001b[0m     \u001b[0;32mreturn\u001b[0m \u001b[0mprint\u001b[0m\u001b[0;34m(\u001b[0m\u001b[0mstar_ratings\u001b[0m\u001b[0;34m)\u001b[0m\u001b[0;34m\u001b[0m\u001b[0m\n\u001b[1;32m      8\u001b[0m \u001b[0;34m\u001b[0m\u001b[0m\n\u001b[0;32m----> 9\u001b[0;31m \u001b[0mratings\u001b[0m\u001b[0;34m(\u001b[0m\u001b[0;34m)\u001b[0m\u001b[0;34m\u001b[0m\u001b[0m\n\u001b[0m",
            "\u001b[0;32m<ipython-input-7-1b1344443099>\u001b[0m in \u001b[0;36mratings\u001b[0;34m()\u001b[0m\n\u001b[1;32m      2\u001b[0m     \u001b[0;31m# locator = 'article.product_pod p.star-rating.Three'\u001b[0m\u001b[0;34m\u001b[0m\u001b[0;34m\u001b[0m\u001b[0m\n\u001b[1;32m      3\u001b[0m     \u001b[0mlocator\u001b[0m \u001b[0;34m=\u001b[0m \u001b[0;34m'article.product_pod p.star-rating.Three'\u001b[0m\u001b[0;34m\u001b[0m\u001b[0m\n\u001b[0;32m----> 4\u001b[0;31m     \u001b[0mstar_rating_tag\u001b[0m \u001b[0;34m=\u001b[0m \u001b[0msoup\u001b[0m\u001b[0;34m.\u001b[0m\u001b[0mselect_one\u001b[0m\u001b[0;34m(\u001b[0m\u001b[0mlocator\u001b[0m\u001b[0;34m)\u001b[0m\u001b[0;34m\u001b[0m\u001b[0m\n\u001b[0m\u001b[1;32m      5\u001b[0m     \u001b[0mstar_rating\u001b[0m \u001b[0;34m=\u001b[0m \u001b[0mstar_rating_tag\u001b[0m\u001b[0;34m.\u001b[0m\u001b[0mattrs\u001b[0m\u001b[0;34m[\u001b[0m\u001b[0;34m'class'\u001b[0m\u001b[0;34m]\u001b[0m\u001b[0;34m\u001b[0m\u001b[0m\n\u001b[1;32m      6\u001b[0m     \u001b[0mstar_ratings\u001b[0m \u001b[0;34m=\u001b[0m \u001b[0;34m[\u001b[0m\u001b[0mr\u001b[0m \u001b[0;32mfor\u001b[0m \u001b[0mr\u001b[0m \u001b[0;32min\u001b[0m \u001b[0mstar_rating\u001b[0m \u001b[0;32mif\u001b[0m \u001b[0mr\u001b[0m \u001b[0;34m!=\u001b[0m \u001b[0;34m'star-rating'\u001b[0m\u001b[0;34m]\u001b[0m\u001b[0;34m\u001b[0m\u001b[0m\n",
            "\u001b[0;31mNameError\u001b[0m: name 'soup' is not defined"
          ]
        }
      ],
      "metadata": {}
    },
    {
      "cell_type": "markdown",
      "source": [
        "# Fold 3"
      ],
      "metadata": {}
    },
    {
      "cell_type": "code",
      "execution_count": null,
      "source": [],
      "outputs": [],
      "metadata": {}
    }
  ]
}