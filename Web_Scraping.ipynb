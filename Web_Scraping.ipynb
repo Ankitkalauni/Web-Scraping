{
  "nbformat": 4,
  "nbformat_minor": 0,
  "metadata": {
    "colab": {
      "name": "Web Scraping.ipynb",
      "provenance": []
    },
    "kernelspec": {
      "name": "python3",
      "display_name": "Python 3"
    },
    "language_info": {
      "name": "python"
    }
  },
  "cells": [
    {
      "cell_type": "code",
      "metadata": {
        "id": "xWo3BSSt5xKu"
      },
      "source": [
        "from bs4 import BeautifulSoup"
      ],
      "execution_count": 5,
      "outputs": []
    },
    {
      "cell_type": "code",
      "metadata": {
        "id": "3EJz720B8uuv"
      },
      "source": [
        "ITEM_HTML = '''<html><head></head><body>\n",
        "<li class=\"col-xs-6 col-sm-4 col-md-3 col-lg-3\">\n",
        "    <article class=\"product_pod\">\n",
        "            <div class=\"image_container\">\n",
        "                    <a href=\"catalogue/a-light-in-the-attic_1000/index.html\"><img src=\"media/cache/2c/da/2cdad67c44b002e7ead0cc35693c0e8b.jpg\" alt=\"A Light in the Attic\" class=\"thumbnail\"></a>\n",
        "            </div>\n",
        "                <p class=\"star-rating Three\">\n",
        "                    <i class=\"icon-star\"></i>\n",
        "                    <i class=\"icon-star\"></i>\n",
        "                    <i class=\"icon-star\"></i>\n",
        "                    <i class=\"icon-star\"></i>\n",
        "                    <i class=\"icon-star\"></i>\n",
        "                </p>\n",
        "            <h3><a href=\"catalogue/a-light-in-the-attic_1000/index.html\" title=\"A Light in the Attic\">A Light in the ...</a></h3>\n",
        "            <div class=\"product_price\">\n",
        "        <p class=\"price_color\">£51.77</p>\n",
        "<p class=\"instock availability\">\n",
        "    <i class=\"icon-ok\"></i>\n",
        "        In stock\n",
        "</p>\n",
        "    <form>\n",
        "        <button type=\"submit\" class=\"btn btn-primary btn-block\" data-loading-text=\"Adding...\">Add to basket</button>\n",
        "    </form>\n",
        "            </div>\n",
        "    </article>\n",
        "</li>\n",
        "</body></html>\n",
        "'''\n",
        "\n",
        "SIMPLE_HTML = '''<html>\n",
        "<head></head>\n",
        "<body>\n",
        "<h1>This is a title</h1>\n",
        "<p class=\"subtitle\">Lorem ipsum dolor sit amet. Consectetur edipiscim elit.</p>\n",
        "<p>Here's another p without a class</p>\n",
        "<ul>\n",
        "    <li>Rolf</li>\n",
        "    <li>Charlie</li>\n",
        "    <li>Jen</li>\n",
        "    <li>Jose</li>\n",
        "</ul>\n",
        "</body>\n",
        "</html>'''"
      ],
      "execution_count": 38,
      "outputs": []
    },
    {
      "cell_type": "code",
      "metadata": {
        "id": "mirttpOi9Oz-"
      },
      "source": [
        "soup = BeautifulSoup(SIMPLE_HTML, 'html.parser')"
      ],
      "execution_count": 41,
      "outputs": []
    },
    {
      "cell_type": "code",
      "metadata": {
        "colab": {
          "base_uri": "https://localhost:8080/"
        },
        "id": "fB8auTLP9mnD",
        "outputId": "b2fefe46-30e0-45e1-ac45-0deb3873d5b8"
      },
      "source": [
        "print(soup.prettify())"
      ],
      "execution_count": 42,
      "outputs": [
        {
          "output_type": "stream",
          "name": "stdout",
          "text": [
            "<html>\n",
            " <head>\n",
            " </head>\n",
            " <body>\n",
            "  <h1>\n",
            "   This is a title\n",
            "  </h1>\n",
            "  <p class=\"subtitle\">\n",
            "   Lorem ipsum dolor sit amet. Consectetur edipiscim elit.\n",
            "  </p>\n",
            "  <p>\n",
            "   Here's another p without a class\n",
            "  </p>\n",
            "  <ul>\n",
            "   <li>\n",
            "    Rolf\n",
            "   </li>\n",
            "   <li>\n",
            "    Charlie\n",
            "   </li>\n",
            "   <li>\n",
            "    Jen\n",
            "   </li>\n",
            "   <li>\n",
            "    Jose\n",
            "   </li>\n",
            "  </ul>\n",
            " </body>\n",
            "</html>\n"
          ]
        }
      ]
    },
    {
      "cell_type": "code",
      "metadata": {
        "colab": {
          "base_uri": "https://localhost:8080/"
        },
        "id": "sFD9i38Q9o00",
        "outputId": "fefaf54c-29c7-4920-9b6d-260d28795de7"
      },
      "source": [
        "h1 = soup.find_all('h1')\n",
        "print(h1)"
      ],
      "execution_count": 50,
      "outputs": [
        {
          "output_type": "stream",
          "name": "stdout",
          "text": [
            "[<h1>This is a title</h1>]\n"
          ]
        }
      ]
    },
    {
      "cell_type": "code",
      "metadata": {
        "colab": {
          "base_uri": "https://localhost:8080/",
          "height": 35
        },
        "id": "Fnu9oqwA-E9N",
        "outputId": "c9094557-01c9-4a49-f225-88cfec17496e"
      },
      "source": [
        "h1_one = soup.find('h1')\n",
        "h1_one.string"
      ],
      "execution_count": 49,
      "outputs": [
        {
          "output_type": "execute_result",
          "data": {
            "application/vnd.google.colaboratory.intrinsic+json": {
              "type": "string"
            },
            "text/plain": [
              "'This is a title'"
            ]
          },
          "metadata": {},
          "execution_count": 49
        }
      ]
    },
    {
      "cell_type": "code",
      "metadata": {
        "colab": {
          "base_uri": "https://localhost:8080/"
        },
        "id": "lNOrQys9-myy",
        "outputId": "a04d7e40-3ea6-4999-fa17-cb509e8dc877"
      },
      "source": [
        "def getlist():\n",
        "  li_list = soup.find_all('li')\n",
        "  li_string = [string.string for string in li_list]\n",
        "  print(li_string)\n",
        "\n",
        "getlist()"
      ],
      "execution_count": 51,
      "outputs": [
        {
          "output_type": "stream",
          "name": "stdout",
          "text": [
            "['Rolf', 'Charlie', 'Jen', 'Jose']\n"
          ]
        }
      ]
    },
    {
      "cell_type": "code",
      "metadata": {
        "colab": {
          "base_uri": "https://localhost:8080/"
        },
        "id": "cgfgRZHQC6p3",
        "outputId": "9fc445ad-9d41-4e13-ddda-d9b202dc635a"
      },
      "source": [
        "def subtitle():\n",
        "  para = soup.find('p',{'class':'subtitle'})\n",
        "  print(para.string)\n",
        "subtitle()"
      ],
      "execution_count": 56,
      "outputs": [
        {
          "output_type": "stream",
          "name": "stdout",
          "text": [
            "Lorem ipsum dolor sit amet. Consectetur edipiscim elit.\n"
          ]
        }
      ]
    },
    {
      "cell_type": "code",
      "metadata": {
        "colab": {
          "base_uri": "https://localhost:8080/"
        },
        "id": "hxlMn4CWDzDm",
        "outputId": "a355d410-207f-4539-f3c2-3f445833b7fd"
      },
      "source": [
        "def get_paras():\n",
        "  para = soup.find('p')\n",
        "  print(para.string)\n",
        "\n",
        "get_paras()"
      ],
      "execution_count": 60,
      "outputs": [
        {
          "output_type": "stream",
          "name": "stdout",
          "text": [
            "Lorem ipsum dolor sit amet. Consectetur edipiscim elit.\n"
          ]
        }
      ]
    },
    {
      "cell_type": "code",
      "metadata": {
        "colab": {
          "base_uri": "https://localhost:8080/"
        },
        "id": "6qCdN2R7GDCS",
        "outputId": "8598a759-3f7c-43dc-c2d9-cb5dd6f62093"
      },
      "source": [
        "def get_all_para():\n",
        "  para = soup.findAll('p')\n",
        "  para = [p.string for p in para]\n",
        "  print(para)\n",
        "get_other_para()"
      ],
      "execution_count": 63,
      "outputs": [
        {
          "output_type": "stream",
          "name": "stdout",
          "text": [
            "['Lorem ipsum dolor sit amet. Consectetur edipiscim elit.', \"Here's another p without a class\"]\n"
          ]
        }
      ]
    },
    {
      "cell_type": "code",
      "metadata": {
        "colab": {
          "base_uri": "https://localhost:8080/"
        },
        "id": "dIsHkBBkGiI1",
        "outputId": "c96b3a16-4bb8-436a-bbab-faa84840611a"
      },
      "source": [
        "def get_specific():\n",
        "  para = soup.findAll('p',{'class':''})\n",
        "  para = [i.string for i in para]\n",
        "  return para\n",
        "get_specific()"
      ],
      "execution_count": 65,
      "outputs": [
        {
          "output_type": "execute_result",
          "data": {
            "text/plain": [
              "[\"Here's another p without a class\"]"
            ]
          },
          "metadata": {},
          "execution_count": 65
        }
      ]
    },
    {
      "cell_type": "code",
      "metadata": {
        "colab": {
          "base_uri": "https://localhost:8080/"
        },
        "id": "lN99i_26HrNG",
        "outputId": "86b78d33-20a0-4055-9be6-63ff447505ac"
      },
      "source": [
        "def get_specific_class():\n",
        "  para = soup.find_all('p')\n",
        "  para = [i.string for i in para if 'subtitle' not in i.attrs.get('class',[])]\n",
        "  print(para)\n",
        "\n",
        "get_specific_class()\n"
      ],
      "execution_count": 76,
      "outputs": [
        {
          "output_type": "stream",
          "name": "stdout",
          "text": [
            "[\"Here's another p without a class\"]\n"
          ]
        }
      ]
    },
    {
      "cell_type": "code",
      "metadata": {
        "id": "TNKM8I3JIIrW"
      },
      "source": [
        ""
      ],
      "execution_count": null,
      "outputs": []
    }
  ]
}